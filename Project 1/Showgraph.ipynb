{
 "cells": [
  {
   "cell_type": "code",
   "execution_count": 1,
   "id": "d7b0e8ea-4aea-45e0-a3e1-c5b6fa94de0b",
   "metadata": {},
   "outputs": [],
   "source": [
    "import pandas as pd\n",
    "import numpy as np\n",
    "import matplotlib.pyplot as plt\n",
    "import seaborn as sns\n",
    "from datetime import datetime\n",
    "from pandas.plotting import lag_plot\n",
    "import statsmodels.graphics.tsaplots as tsa_plots\n",
    "from statsmodels.tsa.seasonal import seasonal_decompose"
   ]
  },
  {
   "cell_type": "code",
   "execution_count": 2,
   "id": "25569ab6-6e7c-4111-808b-35de9e023799",
   "metadata": {},
   "outputs": [],
   "source": [
    "def Line_Plot(data):\n",
    "    \n",
    "    # set figure size\n",
    "    plt.figure(figsize = (10, 6))\n",
    "  \n",
    "    # plot a simple time series plot using seaborn.lineplot()\n",
    "    sns.lineplot(x = 'Date', y = 'Rate', data = data, label = 'USD-INR') \n",
    "    \n",
    "    plt.xlabel('Year', fontsize=16)\n",
    "    plt.ylabel('Rate', fontsize=16)\n",
    "    for year in range(2010, 2023):\n",
    "        plt.axvline(pd.to_datetime(str(year)+'-01-01'), color='k', linestyle='--', alpha=0.2)"
   ]
  },
  {
   "cell_type": "code",
   "execution_count": 3,
   "id": "445f10e0-f716-4ccc-806a-04e47a81a282",
   "metadata": {},
   "outputs": [],
   "source": [
    "def Sub_Lineplot(drange):\n",
    "    \n",
    "    plt.figure(figsize = (25,2))\n",
    "    plt.xlabel('Year', fontsize=16)\n",
    "    plt.ylabel('Rate', fontsize=16)\n",
    "    sns.lineplot(data = drange[\"Rate\"])"
   ]
  },
  {
   "cell_type": "code",
   "execution_count": 4,
   "id": "1026b2ca-5776-4df8-be3a-1a1aaa9dc7d7",
   "metadata": {},
   "outputs": [],
   "source": [
    "def Box_Plot1(data):\n",
    "    \n",
    "    data.boxplot(column=['Rate'])"
   ]
  },
  {
   "cell_type": "code",
   "execution_count": 5,
   "id": "aaa7cdc7-927f-490f-87c7-5e8397e4bb28",
   "metadata": {},
   "outputs": [],
   "source": [
    "def Box_Plot2(data):\n",
    "    \n",
    "    plt.figure(figsize = (30,10))\n",
    "    plt.xlabel('Year', fontsize=16)\n",
    "    plt.ylabel('Rate', fontsize=16)\n",
    "    sns.set(style='whitegrid')\n",
    "    sns.boxplot(x=\"Year\", y=\"Rate\",data=data)"
   ]
  },
  {
   "cell_type": "code",
   "execution_count": 6,
   "id": "310fe944-0304-4ad6-a59d-8eb02f7cb03b",
   "metadata": {},
   "outputs": [],
   "source": [
    "def Plot_Series(data):\n",
    "   \n",
    "    plt.figure(figsize=(30,10))\n",
    "    plt.plot(data)\n",
    "    plt.xlabel('Year', fontsize=16)\n",
    "    plt.ylabel('Rate', fontsize=16)\n",
    "    \n",
    "    # setting customized ticklabels for x axis\n",
    "    pos = [ '1973-01-02', '1978-01-01', '1983-01-01', '1988-01-01', '1993-01-01', '1998-01-01', '2003-01-01', '2008-01-01','2013-01-01', '2018-01-01', '2021-01-01']\n",
    "    lab = [ '1973', '1978', '1983', '1988', '1993', '1998', '2003', '2008', '2013', '2018', '2021']\n",
    "\n",
    "    plt.xticks(pos, lab)\n",
    "    \n",
    "    for year in range(1973, 2023):\n",
    "        plt.axvline(pd.to_datetime(str(year)+'-01-01'), color='k', linestyle='--', alpha=0.2)"
   ]
  },
  {
   "cell_type": "code",
   "execution_count": 7,
   "id": "fc1a47d9-452d-4963-b5c0-768e7a611da6",
   "metadata": {},
   "outputs": [],
   "source": [
    "def Lag_Plot(data):\n",
    "    \n",
    "    plt.figure(figsize=(30,10))\n",
    "    lag_plot(data, c='blue')"
   ]
  },
  {
   "cell_type": "code",
   "execution_count": 8,
   "id": "bd94aed6-0a7f-4444-bc42-b5802652c91e",
   "metadata": {},
   "outputs": [],
   "source": [
    "def Dist_Plot(data):\n",
    "   \n",
    "    sns.distplot(data,bins=8,kde=True,hist_kws={'edgecolor':'black','linewidth':2, 'linestyle':'--'})"
   ]
  },
  {
   "cell_type": "code",
   "execution_count": 9,
   "id": "01b75791-c613-4987-9c4f-d6e3c204af11",
   "metadata": {
    "tags": []
   },
   "outputs": [],
   "source": [
    "def ACF_PACF_Plots(data):\n",
    "   \n",
    "    tsa_plots.plot_acf(data,lags=50)\n",
    "    tsa_plots.plot_pacf(data,lags=50)\n",
    "    plt.show()"
   ]
  },
  {
   "cell_type": "code",
   "execution_count": 10,
   "id": "7cb15afc-8d85-4438-84c2-7d4be09f1eae",
   "metadata": {},
   "outputs": [],
   "source": [
    "def Decompose(data):\n",
    "    \n",
    "    decompose_ts_add = seasonal_decompose(data,period=60)\n",
    "    decompose_ts_add.plot()"
   ]
  },
  {
   "cell_type": "code",
   "execution_count": 11,
   "id": "d1b8b138-5f20-4b01-b2c9-5233d1bdccea",
   "metadata": {},
   "outputs": [],
   "source": [
    "def FirstDiff_Plot(data,start_date,end_date):\n",
    "    data_ARMA = data\n",
    "    plt.figure(figsize=(10,6))\n",
    "    plt.plot(data_ARMA)\n",
    "    plt.title('First Difference of Exchange Rate', fontsize=20)\n",
    "    plt.ylabel('Rate', fontsize=16)\n",
    "    for year in range(start_date.year,end_date.year):\n",
    "        plt.axvline(pd.to_datetime(str(year)+'-01-01'), color='k', linestyle='--', alpha=0.2)\n",
    "    plt.axhline(data_ARMA.mean(), color='r', alpha=0.2, linestyle='--')"
   ]
  },
  {
   "cell_type": "code",
   "execution_count": 12,
   "id": "84a86aa0-37ee-4130-a363-48d921188157",
   "metadata": {},
   "outputs": [],
   "source": [
    "def NeuralNet_Plot(y_test,y_pred):\n",
    "    \n",
    "    plt.figure(figsize=(12,8))\n",
    "    plt.title('USD-INR Prediction')\n",
    "    plt.plot(y_test , label = 'Actual')\n",
    "    plt.plot(y_pred , label = 'Predicted')\n",
    "    plt.xlabel('Observation')\n",
    "    plt.ylabel('Rate')\n",
    "    plt.legend()"
   ]
  },
  {
   "cell_type": "code",
   "execution_count": 13,
   "id": "b5349cea-f14f-4980-a4c6-7a60e7d43f09",
   "metadata": {},
   "outputs": [],
   "source": []
  },
  {
   "cell_type": "code",
   "execution_count": null,
   "id": "4d419f8d-68e3-4452-bbdb-99a7fc5834ee",
   "metadata": {},
   "outputs": [],
   "source": []
  },
  {
   "cell_type": "code",
   "execution_count": null,
   "id": "5d5d4814-4f93-40e2-89d9-60481efd0bd9",
   "metadata": {},
   "outputs": [],
   "source": []
  }
 ],
 "metadata": {
  "kernelspec": {
   "display_name": "Python 3",
   "language": "python",
   "name": "python3"
  },
  "language_info": {
   "codemirror_mode": {
    "name": "ipython",
    "version": 3
   },
   "file_extension": ".py",
   "mimetype": "text/x-python",
   "name": "python",
   "nbconvert_exporter": "python",
   "pygments_lexer": "ipython3",
   "version": "3.8.8"
  }
 },
 "nbformat": 4,
 "nbformat_minor": 5
}
