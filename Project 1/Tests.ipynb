{
 "cells": [
  {
   "cell_type": "code",
   "execution_count": 1,
   "id": "cfe8c1c8-fa12-4813-a15a-856cbe1dd970",
   "metadata": {},
   "outputs": [],
   "source": [
    "from statsmodels.tsa.stattools import adfuller\n",
    "from fbprophet.diagnostics import cross_validation\n",
    "from fbprophet.diagnostics import performance_metrics\n"
   ]
  },
  {
   "cell_type": "code",
   "execution_count": 2,
   "id": "71d43e09-a21c-4aa5-9078-1e376e7a7c0f",
   "metadata": {},
   "outputs": [],
   "source": [
    "#Ho: Data is non stationary\n",
    "#H1: Data is stationary\n",
    "\n",
    "def adfuller_test(Rate):\n",
    "    \n",
    "    result=adfuller(Rate)\n",
    "    labels = ['ADF Test Statistic', 'p-value', '#Lags Used', 'Number of Observations used']\n",
    "    for value,label in zip(result,labels):\n",
    "        print(label+' : '+str(value))\n",
    "    if result[1] <= 0.05:\n",
    "        print(\"Reject the null hypothesis(Ho). Data is Stationary\")\n",
    "    else:\n",
    "        print(\"Accept the null hypothesis(Ho). Data is non-stationary\")"
   ]
  },
  {
   "cell_type": "code",
   "execution_count": 3,
   "id": "1e921f3a-a05c-40d9-86d5-39383cc17cae",
   "metadata": {},
   "outputs": [],
   "source": [
    "def fb_crossval(data_cv):\n",
    "    \n",
    "    df_cv = cross_validation(data_cv, initial = '3650 days', period = '365 days', horizon = '30 days')\n",
    "    df_cv.head()\n",
    "    df_p = performance_metrics(df_cv)\n",
    "    df_p.head()\n",
    "    return df_cv"
   ]
  },
  {
   "cell_type": "code",
   "execution_count": null,
   "id": "e356526e-d9cc-4762-b897-c6fa66106bc8",
   "metadata": {},
   "outputs": [],
   "source": []
  },
  {
   "cell_type": "code",
   "execution_count": null,
   "id": "96039667-cb4d-4938-976e-8291e6007b18",
   "metadata": {},
   "outputs": [],
   "source": []
  },
  {
   "cell_type": "code",
   "execution_count": null,
   "id": "f6693d9f-c1d3-4d6c-bbe2-c1ddb7530cde",
   "metadata": {},
   "outputs": [],
   "source": []
  },
  {
   "cell_type": "code",
   "execution_count": null,
   "id": "3c51fc64-264f-4fce-8704-2d631183cec4",
   "metadata": {},
   "outputs": [],
   "source": []
  },
  {
   "cell_type": "code",
   "execution_count": null,
   "id": "e132ab68-6440-4711-a7cf-9ac5adb15506",
   "metadata": {},
   "outputs": [],
   "source": []
  },
  {
   "cell_type": "code",
   "execution_count": null,
   "id": "baea5dbf-3de6-499e-aed0-ebd1624457e2",
   "metadata": {},
   "outputs": [],
   "source": []
  },
  {
   "cell_type": "code",
   "execution_count": null,
   "id": "45653d0e-eab2-4c12-85e8-ffd277a21532",
   "metadata": {},
   "outputs": [],
   "source": []
  },
  {
   "cell_type": "code",
   "execution_count": null,
   "id": "7147dcf6-c222-4d24-bb34-1df3047fc198",
   "metadata": {},
   "outputs": [],
   "source": []
  },
  {
   "cell_type": "code",
   "execution_count": null,
   "id": "9971fc97-9a76-4765-9cb5-eed892281e54",
   "metadata": {},
   "outputs": [],
   "source": []
  },
  {
   "cell_type": "code",
   "execution_count": null,
   "id": "3f6bcc3f-c74e-47be-9dd5-814837328f02",
   "metadata": {},
   "outputs": [],
   "source": []
  },
  {
   "cell_type": "code",
   "execution_count": null,
   "id": "f4f368f7-c9e2-4ae9-9dd6-7b1ee036722b",
   "metadata": {},
   "outputs": [],
   "source": []
  },
  {
   "cell_type": "code",
   "execution_count": null,
   "id": "7ee6d896-20da-44bd-a26b-f56d988bac7f",
   "metadata": {},
   "outputs": [],
   "source": []
  },
  {
   "cell_type": "code",
   "execution_count": null,
   "id": "2bf32ed2-9220-4f28-a968-866a32337da5",
   "metadata": {},
   "outputs": [],
   "source": []
  },
  {
   "cell_type": "code",
   "execution_count": null,
   "id": "384e8354-d1ff-45e0-a911-7b3b2b91a8f5",
   "metadata": {},
   "outputs": [],
   "source": []
  },
  {
   "cell_type": "code",
   "execution_count": null,
   "id": "7a9dc643-c5a9-49c0-9049-6fac4c8ea109",
   "metadata": {},
   "outputs": [],
   "source": []
  },
  {
   "cell_type": "code",
   "execution_count": null,
   "id": "935eeab1-6130-4650-a7b5-2d92536ce029",
   "metadata": {},
   "outputs": [],
   "source": []
  },
  {
   "cell_type": "code",
   "execution_count": null,
   "id": "f85b61b2-aae0-47aa-82bd-ec1728303615",
   "metadata": {},
   "outputs": [],
   "source": []
  },
  {
   "cell_type": "code",
   "execution_count": null,
   "id": "393ea95f-466d-45cc-8313-bacb54fc4f45",
   "metadata": {},
   "outputs": [],
   "source": []
  }
 ],
 "metadata": {
  "kernelspec": {
   "display_name": "Python 3",
   "language": "python",
   "name": "python3"
  },
  "language_info": {
   "codemirror_mode": {
    "name": "ipython",
    "version": 3
   },
   "file_extension": ".py",
   "mimetype": "text/x-python",
   "name": "python",
   "nbconvert_exporter": "python",
   "pygments_lexer": "ipython3",
   "version": "3.8.8"
  }
 },
 "nbformat": 4,
 "nbformat_minor": 5
}
